{
 "cells": [
  {
   "cell_type": "code",
   "execution_count": 1,
   "metadata": {},
   "outputs": [],
   "source": [
    "def sparse_to_tuple(sparse_mx):\n",
    "    if not sp.isspmatrix_coo(sparse_mx):\n",
    "        sparse_mx = sparse_mx.tocoo()\n",
    "    coords = np.vstack((sparse_mx.row, sparse_mx.col)).transpose()\n",
    "    values = sparse_mx.data\n",
    "    shape = sparse_mx.shape\n",
    "    return coords, values, shape"
   ]
  },
  {
   "cell_type": "code",
   "execution_count": 2,
   "metadata": {},
   "outputs": [],
   "source": [
    "import networkx as nx\n",
    "import numpy as np\n",
    "import scipy.sparse as sp"
   ]
  },
  {
   "cell_type": "code",
   "execution_count": 3,
   "metadata": {},
   "outputs": [],
   "source": [
    "# test adj matrix\n",
    "A = np.array([[0,1,1,1,0],\n",
    "              [1,0,0,0,0],\n",
    "              [1,0,0,1,0],\n",
    "              [1,0,1,0,1],\n",
    "              [0,0,0,1,0]])"
   ]
  },
  {
   "cell_type": "code",
   "execution_count": null,
   "metadata": {},
   "outputs": [],
   "source": []
  },
  {
   "cell_type": "code",
   "execution_count": 2,
   "metadata": {},
   "outputs": [],
   "source": [
    "G = nx.read_edgelist('../Data/Interactome/huri_apid_merge_ppis_edgelist.csv')\n",
    "adj = nx.adjacency_matrix(G)\n",
    "adj_orig = adj - sp.dia_matrix((adj.diagonal()[np.newaxis, :], [0]), shape=adj.shape)\n",
    "adj_orig.eliminate_zeros()\n",
    "\n",
    "\n",
    "sum_matrix = sp.csr_matrix(np.tile(adj_orig.sum(axis=0),(adj_orig.shape[1],1)))\n",
    "klaas = (sum_matrix + sum_matrix.T) - np.array([1])\n",
    "# # add the sum of the row i and column j for x[i,j] - 1\n",
    "# weights = np.subtract(np.add(sum_matrix, sum_matrix.T),1)\n",
    "# # weighted_matrix = np.divide(adj_orig,weights)\n",
    "# # weighted_matrix = sparse.csr_matrix(weighted_matrix)\n",
    "\n",
    "# adj_triu_norm = sp.triu(adj)\n",
    "# edge_count = adj_triu.count_nonzero() "
   ]
  },
  {
   "cell_type": "code",
   "execution_count": 3,
   "metadata": {},
   "outputs": [
    {
     "data": {
      "text/plain": [
       "matrix([[ 41,  43, 247, ...,  21,  21,  21],\n",
       "        [ 43,  45, 249, ...,  23,  23,  23],\n",
       "        [247, 249, 453, ..., 227, 227, 227],\n",
       "        ...,\n",
       "        [ 21,  23, 227, ...,   1,   1,   1],\n",
       "        [ 21,  23, 227, ...,   1,   1,   1],\n",
       "        [ 21,  23, 227, ...,   1,   1,   1]], dtype=int64)"
      ]
     },
     "execution_count": 3,
     "metadata": {},
     "output_type": "execute_result"
    }
   ],
   "source": [
    "klaas"
   ]
  },
  {
   "cell_type": "code",
   "execution_count": 309,
   "metadata": {},
   "outputs": [
    {
     "data": {
      "text/plain": [
       "110051"
      ]
     },
     "execution_count": 309,
     "metadata": {},
     "output_type": "execute_result"
    }
   ],
   "source": [
    "adj_triu_orig = sp.triu(adj_orig)\n",
    "adj_triu_orig.sum()"
   ]
  },
  {
   "cell_type": "code",
   "execution_count": 308,
   "metadata": {},
   "outputs": [
    {
     "data": {
      "text/plain": [
       "110968.5"
      ]
     },
     "execution_count": 308,
     "metadata": {},
     "output_type": "execute_result"
    }
   ],
   "source": [
    "adj.sum()/2"
   ]
  },
  {
   "cell_type": "code",
   "execution_count": 304,
   "metadata": {},
   "outputs": [
    {
     "data": {
      "text/plain": [
       "111886"
      ]
     },
     "execution_count": 304,
     "metadata": {},
     "output_type": "execute_result"
    }
   ],
   "source": [
    "edge_count"
   ]
  },
  {
   "cell_type": "code",
   "execution_count": 301,
   "metadata": {},
   "outputs": [
    {
     "data": {
      "text/plain": [
       "array([[-0.04550158,  0.        , -0.0138092 , ...,  0.        ,\n",
       "         0.        ,  0.        ]])"
      ]
     },
     "execution_count": 301,
     "metadata": {},
     "output_type": "execute_result"
    }
   ],
   "source": [
    "G_norm = nx.from_scipy_sparse_matrix(adj_orig)\n",
    "adj_norm = nx.normalized_laplacian_matrix(G)\n",
    "adj_orig_norm = adj_norm - sp.dia_matrix((adj_norm.diagonal()[np.newaxis, :], [0]), shape=adj_norm.shape)\n",
    "adj_orig_norm.eliminate_zeros()"
   ]
  },
  {
   "cell_type": "code",
   "execution_count": 276,
   "metadata": {
    "scrolled": false
   },
   "outputs": [],
   "source": [
    "# test adj matrix\n",
    "A = np.array([[0,1,1,1,0],\n",
    "              [1,0,0,0,0],\n",
    "              [1,0,0,1,0],\n",
    "              [1,0,1,0,1],\n",
    "              [0,0,0,1,0]])"
   ]
  },
  {
   "cell_type": "code",
   "execution_count": 277,
   "metadata": {},
   "outputs": [
    {
     "data": {
      "text/plain": [
       "matrix([[ 1.        , -0.57735027, -0.40824829, -0.33333333,  0.        ],\n",
       "        [-0.57735027,  1.        ,  0.        ,  0.        ,  0.        ],\n",
       "        [-0.40824829,  0.        ,  1.        , -0.40824829,  0.        ],\n",
       "        [-0.33333333,  0.        , -0.40824829,  1.        , -0.57735027],\n",
       "        [ 0.        ,  0.        ,  0.        , -0.57735027,  1.        ]])"
      ]
     },
     "execution_count": 277,
     "metadata": {},
     "output_type": "execute_result"
    }
   ],
   "source": [
    "G = nx.from_numpy_array(A)\n",
    "nx.normalized_laplacian_matrix(G).todense()"
   ]
  },
  {
   "cell_type": "code",
   "execution_count": 278,
   "metadata": {},
   "outputs": [
    {
     "data": {
      "text/plain": [
       "array([[0.        , 0.33333333, 0.25      , 0.2       , 0.        ],\n",
       "       [0.33333333, 0.        , 0.        , 0.        , 0.        ],\n",
       "       [0.25      , 0.        , 0.        , 0.25      , 0.        ],\n",
       "       [0.2       , 0.        , 0.25      , 0.        , 0.33333333],\n",
       "       [0.        , 0.        , 0.        , 0.33333333, 0.        ]])"
      ]
     },
     "execution_count": 278,
     "metadata": {},
     "output_type": "execute_result"
    }
   ],
   "source": [
    "matrix = np.tile(A.sum(axis=0),(A.shape[1],1))\n",
    "# add the sum of the row i and column j for x[i,j] - 1\n",
    "weights = np.subtract(np.add(matrix,matrix.T),1)\n",
    "weighted_matrix = np.divide(A,weights)\n",
    "weighted_matrix"
   ]
  },
  {
   "cell_type": "code",
   "execution_count": 163,
   "metadata": {},
   "outputs": [],
   "source": [
    "g = nx.read_edgelist('../Data/Interactome/huri_apid_merge_ppis_edgelist.csv')\n",
    "\n",
    "adj = nx.adjacency_matrix(g)\n",
    "num_nodes = adj.shape[0]\n",
    "num_edges = adj"
   ]
  },
  {
   "cell_type": "code",
   "execution_count": 152,
   "metadata": {},
   "outputs": [],
   "source": [
    "features = np.random.random((num_nodes, 256))\n",
    "# features = sparse_to_tuple(sp.identity(num_nodes))\n",
    "num_features = features.shape[1]\n",
    "features_nonzero = features.shape[1]"
   ]
  },
  {
   "cell_type": "code",
   "execution_count": 153,
   "metadata": {},
   "outputs": [],
   "source": [
    "# Store original adjacency matrix (without diagonal entries) for later\n",
    "adj_orig = adj - sp.dia_matrix((adj.diagonal()[np.newaxis, :], [0]), shape=adj.shape)\n",
    "adj_orig.eliminate_zeros()"
   ]
  },
  {
   "cell_type": "code",
   "execution_count": 161,
   "metadata": {},
   "outputs": [
    {
     "data": {
      "text/plain": [
       "110051"
      ]
     },
     "execution_count": 161,
     "metadata": {},
     "output_type": "execute_result"
    }
   ],
   "source": [
    "adj_triu_orig = sp.triu(adj_orig)\n",
    "adj_triu_orig.sum()"
   ]
  },
  {
   "cell_type": "code",
   "execution_count": 155,
   "metadata": {},
   "outputs": [],
   "source": [
    "def c1c2c3_split(adj, features):\n",
    "    adj = adj - sp.dia_matrix((adj.diagonal()[np.newaxis, :], [0]), shape=adj.shape)\n",
    "    adj.eliminate_zeros()\n",
    "\n",
    "    adj_triu = sp.triu(adj)\n",
    "    edge_count = adj_triu.count_nonzero() \n",
    "    \n",
    "    assert edge_count == adj.count_nonzero()/2 \n",
    "    print(edge_count)\n",
    "    list(zip(*adj_triu.nonzero()))\n",
    "    return\n",
    "#     all_edge_idx = list(range(edges.shape[0]))\n",
    "#     np.random.shuffle(all_edge_idx)\n",
    "#     val_edge_idx = all_edge_idx[:num_val]\n",
    "#     test_edge_idx = all_edge_idx[num_val:(num_val + num_test)]\n",
    "#     test_edges = edges[test_edge_idx]\n",
    "#     val_edges = edges[val_edge_idx]\n",
    "#     train_edges = np.delete(edges, np.hstack([test_edge_idx, val_edge_idx]), axis=0)"
   ]
  },
  {
   "cell_type": "code",
   "execution_count": 156,
   "metadata": {},
   "outputs": [
    {
     "name": "stdout",
     "output_type": "stream",
     "text": [
      "110051\n"
     ]
    }
   ],
   "source": [
    "c1c2c3_split(adj_orig, features)"
   ]
  },
  {
   "cell_type": "code",
   "execution_count": null,
   "metadata": {},
   "outputs": [],
   "source": []
  }
 ],
 "metadata": {
  "kernelspec": {
   "display_name": "Python 3",
   "language": "python",
   "name": "python3"
  },
  "language_info": {
   "codemirror_mode": {
    "name": "ipython",
    "version": 3
   },
   "file_extension": ".py",
   "mimetype": "text/x-python",
   "name": "python",
   "nbconvert_exporter": "python",
   "pygments_lexer": "ipython3",
   "version": "3.8.2"
  }
 },
 "nbformat": 4,
 "nbformat_minor": 4
}
