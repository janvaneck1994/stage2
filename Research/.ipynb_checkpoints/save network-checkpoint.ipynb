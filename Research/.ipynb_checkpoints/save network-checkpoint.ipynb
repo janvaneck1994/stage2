{
 "cells": [
  {
   "cell_type": "code",
   "execution_count": null,
   "metadata": {},
   "outputs": [],
   "source": [
    "class Net(torch.nn.Module):\n",
    "    def __init__(self):\n",
    "        super(Net, self).__init__()\n",
    "        self.conv1 = GCNConv(1024, 1024)\n",
    "        self.lin1 = torch.nn.Linear(1024, 1024)\n",
    "        self.conv2 = GCNConv(1024, 1024)\n",
    "        self.lin2 = torch.nn.Linear(1024, 1024)\n",
    "#         self.conv3 = GCNConv(1024, 1024)\n",
    "#         self.lin3 = torch.nn.Linear(1024, 1024)\n",
    "\n",
    "        self.lin4 = torch.nn.Linear(2048, 256)\n",
    "        self.lin5 = torch.nn.Linear(256, 128)\n",
    "#         self.lin6 = torch.nn.Linear(128, 1)\n",
    "#         self.lin2 = torch.nn.Linear(256, 128)\n",
    "\n",
    "    def forward(self, pos_edge_index, neg_edge_index):\n",
    "\n",
    "        x1 = F.elu(self.conv1(data.x, data.train_pos_edge_index)+ self.lin1(data.x))\n",
    "        x1 = F.dropout(x1, p=0.4, training=self.training)\n",
    "        x2 = F.elu(self.conv2(x1, data.train_pos_edge_index)+ self.lin2(data.x))\n",
    "        x2 = F.dropout(x2, p=0.4, training=self.training)\n",
    "\n",
    "#         x = F.elu(self.conv2(x, data.train_pos_edge_index)+ self.lin2(x)) \n",
    "#         x = F.elu(self.conv3(x, data.train_pos_edge_index)+ self.lin3(x))\n",
    "        x = torch.cat([x1, x2], dim=-1)\n",
    "\n",
    "        x = F.elu(self.lin4(x))\n",
    "        x = F.dropout(x, p=0.2, training=self.training)\n",
    "\n",
    "        x = F.elu(self.lin5(x))\n",
    "#         x = F.elu(self.lin6(x))\n",
    "        \n",
    "        total_edge_index = torch.cat([pos_edge_index, neg_edge_index], dim=-1)\n",
    "        x_j = torch.index_select(x, 0, total_edge_index[0])\n",
    "        x_i = torch.index_select(x, 0, total_edge_index[1])\n",
    "        return torch.einsum(\"ef,ef->e\", x_i, x_j)"
   ]
  }
 ],
 "metadata": {
  "kernelspec": {
   "display_name": "Python 3",
   "language": "python",
   "name": "python3"
  },
  "language_info": {
   "codemirror_mode": {
    "name": "ipython",
    "version": 3
   },
   "file_extension": ".py",
   "mimetype": "text/x-python",
   "name": "python",
   "nbconvert_exporter": "python",
   "pygments_lexer": "ipython3",
   "version": "3.8.2"
  }
 },
 "nbformat": 4,
 "nbformat_minor": 4
}
