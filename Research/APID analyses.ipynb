{
 "cells": [
  {
   "cell_type": "markdown",
   "metadata": {},
   "source": [
    "# Get the UniProt ids of the APID dataset\n",
    "\n",
    "High quality binary PPI data is needed for this project. The APID human interactome dataset with interactions proven by at least 1 binary method (binary interactomes) therefore going to be used. APID was filtered on the human interactome, level 2, and filter out inter-species interactions\n",
    "\n",
    "- https://academic.oup.com/database/article/doi/10.1093/database/baz005/5304002\n",
    "- http://cicblade.dep.usal.es:8080/APID/init.action\n",
    "\n",
    "\n"
   ]
  },
  {
   "cell_type": "code",
   "execution_count": 1,
   "metadata": {},
   "outputs": [],
   "source": [
    "import pandas as pd"
   ]
  },
  {
   "cell_type": "code",
   "execution_count": 5,
   "metadata": {},
   "outputs": [],
   "source": [
    "df_apid = pd.read_csv('../Data/APID/HUMAN_INTACT_LVL2_FILTER_INT-SCECIES_04_05_2020.txt', sep='\\t')"
   ]
  },
  {
   "cell_type": "code",
   "execution_count": 11,
   "metadata": {},
   "outputs": [
    {
     "data": {
      "text/html": [
       "<div>\n",
       "<style scoped>\n",
       "    .dataframe tbody tr th:only-of-type {\n",
       "        vertical-align: middle;\n",
       "    }\n",
       "\n",
       "    .dataframe tbody tr th {\n",
       "        vertical-align: top;\n",
       "    }\n",
       "\n",
       "    .dataframe thead th {\n",
       "        text-align: right;\n",
       "    }\n",
       "</style>\n",
       "<table border=\"1\" class=\"dataframe\">\n",
       "  <thead>\n",
       "    <tr style=\"text-align: right;\">\n",
       "      <th></th>\n",
       "      <th>InteractionID</th>\n",
       "      <th>UniprotID_A</th>\n",
       "      <th>UniprotName_A</th>\n",
       "      <th>GeneName_A</th>\n",
       "      <th>UniprotID_B</th>\n",
       "      <th>UniprotName_B</th>\n",
       "      <th>GeneName_B</th>\n",
       "      <th>ExpEvidences</th>\n",
       "      <th>Methods</th>\n",
       "      <th>Publications</th>\n",
       "      <th>3DStructures</th>\n",
       "      <th>CurationEvents</th>\n",
       "    </tr>\n",
       "  </thead>\n",
       "  <tbody>\n",
       "    <tr>\n",
       "      <th>0</th>\n",
       "      <td>1818</td>\n",
       "      <td>P54727</td>\n",
       "      <td>RD23B_HUMAN</td>\n",
       "      <td>RAD23B</td>\n",
       "      <td>P55036</td>\n",
       "      <td>PSMD4_HUMAN</td>\n",
       "      <td>PSMD4</td>\n",
       "      <td>9</td>\n",
       "      <td>8</td>\n",
       "      <td>7</td>\n",
       "      <td>0</td>\n",
       "      <td>17</td>\n",
       "    </tr>\n",
       "    <tr>\n",
       "      <th>1</th>\n",
       "      <td>1819</td>\n",
       "      <td>P55036</td>\n",
       "      <td>PSMD4_HUMAN</td>\n",
       "      <td>PSMD4</td>\n",
       "      <td>Q9UMX0</td>\n",
       "      <td>UBQL1_HUMAN</td>\n",
       "      <td>UBQLN1</td>\n",
       "      <td>9</td>\n",
       "      <td>5</td>\n",
       "      <td>6</td>\n",
       "      <td>0</td>\n",
       "      <td>15</td>\n",
       "    </tr>\n",
       "    <tr>\n",
       "      <th>2</th>\n",
       "      <td>1826</td>\n",
       "      <td>Q9UMX0</td>\n",
       "      <td>UBQL1_HUMAN</td>\n",
       "      <td>UBQLN1</td>\n",
       "      <td>Q16186</td>\n",
       "      <td>ADRM1_HUMAN</td>\n",
       "      <td>ADRM1</td>\n",
       "      <td>3</td>\n",
       "      <td>4</td>\n",
       "      <td>2</td>\n",
       "      <td>0</td>\n",
       "      <td>8</td>\n",
       "    </tr>\n",
       "  </tbody>\n",
       "</table>\n",
       "</div>"
      ],
      "text/plain": [
       "   InteractionID UniprotID_A UniprotName_A GeneName_A UniprotID_B  \\\n",
       "0           1818      P54727   RD23B_HUMAN     RAD23B      P55036   \n",
       "1           1819      P55036   PSMD4_HUMAN      PSMD4      Q9UMX0   \n",
       "2           1826      Q9UMX0   UBQL1_HUMAN     UBQLN1      Q16186   \n",
       "\n",
       "  UniprotName_B GeneName_B  ExpEvidences  Methods  Publications  3DStructures  \\\n",
       "0   PSMD4_HUMAN      PSMD4             9        8             7             0   \n",
       "1   UBQL1_HUMAN     UBQLN1             9        5             6             0   \n",
       "2   ADRM1_HUMAN      ADRM1             3        4             2             0   \n",
       "\n",
       "   CurationEvents  \n",
       "0              17  \n",
       "1              15  \n",
       "2               8  "
      ]
     },
     "execution_count": 11,
     "metadata": {},
     "output_type": "execute_result"
    }
   ],
   "source": [
    "df_apid.head(3)"
   ]
  },
  {
   "cell_type": "code",
   "execution_count": 9,
   "metadata": {},
   "outputs": [
    {
     "data": {
      "text/plain": [
       "InteractionID       0\n",
       "UniprotID_A         0\n",
       "UniprotName_A       0\n",
       "GeneName_A        406\n",
       "UniprotID_B         0\n",
       "UniprotName_B       0\n",
       "GeneName_B        453\n",
       "ExpEvidences        0\n",
       "Methods             0\n",
       "Publications        0\n",
       "3DStructures        0\n",
       "CurationEvents      0\n",
       "dtype: int64"
      ]
     },
     "execution_count": 9,
     "metadata": {},
     "output_type": "execute_result"
    }
   ],
   "source": [
    "# check if there are nan values\n",
    "# not all gene are known\n",
    "df_apid.isna().sum()"
   ]
  },
  {
   "cell_type": "code",
   "execution_count": 16,
   "metadata": {},
   "outputs": [
    {
     "data": {
      "text/plain": [
       "66206"
      ]
     },
     "execution_count": 16,
     "metadata": {},
     "output_type": "execute_result"
    }
   ],
   "source": [
    "# check for unique PPIs\n",
    "df_apid_ppis = pd.DataFrame(df_apid[['UniprotID_A', 'UniprotID_B']].apply(lambda x: sorted(x), axis=1).to_list())\n",
    "df_apid_ppis = df_apid_ppis.drop_duplicates()\n",
    "len(df_apid_ppis)"
   ]
  },
  {
   "cell_type": "code",
   "execution_count": 20,
   "metadata": {},
   "outputs": [
    {
     "data": {
      "text/plain": [
       "13346"
      ]
     },
     "execution_count": 20,
     "metadata": {},
     "output_type": "execute_result"
    }
   ],
   "source": [
    "# check unique proteins\n",
    "all_unique_uniprot_ids = pd.Series(pd.concat([df_apid_ppis[0],df_apid_ppis[1]]).unique())\n",
    "len(all_unique_uniprot_ids)"
   ]
  },
  {
   "cell_type": "code",
   "execution_count": 21,
   "metadata": {},
   "outputs": [],
   "source": [
    "# export\n",
    "df_apid_ppis.to_csv('../Data/Interactome/uniprot_ids_unique_combinations_apid.csv',\n",
    "                               header=False, index=False)\n",
    "all_unique_uniprot_ids.to_csv('../Data/Interactome/all_unique_uniprot_ids_apid.csv',\n",
    "                               header=False, index=False)"
   ]
  },
  {
   "cell_type": "code",
   "execution_count": null,
   "metadata": {},
   "outputs": [],
   "source": []
  }
 ],
 "metadata": {
  "kernelspec": {
   "display_name": "Python 3",
   "language": "python",
   "name": "python3"
  },
  "language_info": {
   "codemirror_mode": {
    "name": "ipython",
    "version": 3
   },
   "file_extension": ".py",
   "mimetype": "text/x-python",
   "name": "python",
   "nbconvert_exporter": "python",
   "pygments_lexer": "ipython3",
   "version": "3.7.4"
  }
 },
 "nbformat": 4,
 "nbformat_minor": 2
}
