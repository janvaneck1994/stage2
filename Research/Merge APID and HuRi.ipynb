{
 "cells": [
  {
   "cell_type": "markdown",
   "metadata": {},
   "source": [
    "# Merge APID and HuRi\n",
    "\n",
    "Two options:\n",
    "\n",
    "- everything to UniProtKB\n",
    "- everything to ENSP\n",
    "\n",
    "UniProt retrieve mapping tool is used to convert https://www.uniprot.org/uploadlists/: \n",
    "- HuRi | ENSP => UniProtKB (Data/Interactome/all_unique_ENSP_ids_huri.csv):\n",
    "    - Output: 8122 out of 8274 Ensembl Protein identifiers were successfully mapped to 8062 UniProtKB IDs in the table below.\n",
    "- HuRi | UniProtID AC/ID => UniProtKB (Data/Interactome/all_unique_UniProt_ids_huri.csv):\n",
    "    - 8168 out of 8184 UniProtKB AC/ID identifiers were successfully mapped to 8164 UniProtKB IDs in the table below.\n",
    "- APID | UniProtID AC/ID => ENSP\n",
    "    - Output: 12,414 out of 13,346 identifiers from UniProtKB AC/ID were successfully mapped to 33,333 Ensembl Protein IDs.\n",
    "- APID | UniProtID AC/ID => UniProtKB\n",
    "    -  Output: 13346 out of 13346 UniProtKB AC/ID identifiers were successfully mapped to 13317 UniProtKB IDs in the table below.\n",
    "    \n",
    "Based on these mapping results, it would be better to use UniProtKB since we only lose 143 proteins (original HuRi dataset has 8275 unique proteins). If we would use ENSP we would lose 932 proteins. The APID UniProtID AC/ID => ENSP also gives more ENSP mappings as output than we provided. This makes ENSP inconvenient to use.\n",
    "\n",
    "Which proteins are lost?\n",
    "How many PPIs are lost?\n",
    "How many PPIs after merging?"
   ]
  },
  {
   "cell_type": "code",
   "execution_count": 12,
   "metadata": {},
   "outputs": [],
   "source": [
    "import pandas as pd\n",
    "import numpy as np"
   ]
  },
  {
   "cell_type": "code",
   "execution_count": 13,
   "metadata": {},
   "outputs": [],
   "source": [
    "df_apid = pd.read_csv('../Data/Interactome/uniprot_ids_unique_combinations_apid.csv', header=None)\n",
    "df_huri = pd.read_csv('../Data/Interactome/uniprot_ids_unique_combinations_huri.csv', header=None)\n",
    "df_apid_mapping = pd.read_csv('../Data/IDMapping/UniprotKB_ACID_to_UniProtKB_apid_07_05_2020.tab',  sep='\\t')\n",
    "df_huri_mapping = pd.read_csv('../Data/IDMapping/UniProtKB_ACID_to_UniProtKB_huri_07_05_2020.tab',  sep='\\t')\n",
    "\n",
    "df_apid_mapping = pd.concat([pd.Series(row.iloc[1], row.iloc[0].split(','))              \n",
    "                    for _, row in df_apid_mapping.iterrows()]).reset_index()\n",
    "df_huri_mapping = pd.concat([pd.Series(row.iloc[1], row.iloc[0].split(','))              \n",
    "                    for _, row in df_huri_mapping.iterrows()]).reset_index()\n",
    "\n",
    "df_apid_mapping.columns = [0,1]\n",
    "df_huri_mapping.columns = [0,1]"
   ]
  },
  {
   "cell_type": "code",
   "execution_count": 14,
   "metadata": {},
   "outputs": [],
   "source": [
    "mapping_dict_apid = pd.Series(df_apid_mapping.iloc[:,1].values, index=df_apid_mapping.iloc[:,0]).to_dict()\n",
    "mapping_dict_huri = pd.Series(df_huri_mapping.iloc[:,1].values, index=df_huri_mapping.iloc[:,0]).to_dict()\n",
    "mapping_dict = {**mapping_dict_apid, **mapping_dict_huri}"
   ]
  },
  {
   "cell_type": "code",
   "execution_count": 15,
   "metadata": {},
   "outputs": [
    {
     "data": {
      "text/plain": [
       "13346"
      ]
     },
     "execution_count": 15,
     "metadata": {},
     "output_type": "execute_result"
    }
   ],
   "source": [
    "len(mapping_dict_apid)"
   ]
  },
  {
   "cell_type": "code",
   "execution_count": 16,
   "metadata": {},
   "outputs": [
    {
     "name": "stdout",
     "output_type": "stream",
     "text": [
      "{'Q8TCX5-2', 'Q96AP0-1', 'Q9Y2S0-1', 'Q8TBF2-8', 'Q99873-4', 'Q9ULD5-2', 'O60344-3', 'P05177-2', 'Q96QH2-2', 'Q9P0W5-4', 'Q99674-1', 'O60645-3', 'Q9NPA5-1', 'Q9BV68-2', 'Q8NDD1-3', 'Q9UJX0-2'}\n"
     ]
    }
   ],
   "source": [
    "not_found = []\n",
    "\n",
    "def convert(x):\n",
    "    if x in mapping_dict.keys():\n",
    "        return mapping_dict[x]\n",
    "    not_found.append(x)\n",
    "    return np.nan\n",
    "\n",
    "df_apid[0], df_apid[1] = df_apid[0].apply(convert), df_apid[1].apply(convert) \n",
    "df_huri[0], df_huri[1] = df_huri[0].apply(convert), df_huri[1].apply(convert) \n",
    "intersect = df_apid.merge(df_huri, how='inner', on=[0,1])\n",
    "print(set(not_found))"
   ]
  },
  {
   "cell_type": "markdown",
   "metadata": {},
   "source": [
    "##  Mannual check of the ids that could not be converted\n",
    "\n",
    "Each isoform is characterized by a unique identifier, which is composed of the primary accession number of the entry, followed by a dash and a number.\n",
    "\n",
    "Example: P04150-2\n",
    "\n",
    "When alternative protein sequences differ significantly, we create separate entries and list all isoforms in each of them. Consequently, isoforms produced from a single gene listed in one entry may have identifiers derived from different primary accession numbers.\n",
    "Examples: P42166, P42167\n",
    "\n",
    "All the missing 16 isoforms were not yet uploaded to the UniProt Database:\n",
    "- Q8TCX5-2 \n",
    "- Q96AP0-1\n",
    "- Q9Y2S0-1 \n",
    "- Q8TBF2-8 \n",
    "- Q99873-4 \n",
    "- Q9ULD5-2 \n",
    "- O60344-3 \n",
    "- P05177-2  \n",
    "- Q96QH2-2 \n",
    "- Q9P0W5-4 \n",
    "- Q99674-1 \n",
    "- O60645-3 \n",
    "- Q9NPA5-1\n",
    "- Q9BV68-2\n",
    "- Q8NDD1-3\n",
    "- Q9UJX0-2"
   ]
  },
  {
   "cell_type": "code",
   "execution_count": 21,
   "metadata": {},
   "outputs": [],
   "source": [
    "df_apid_huri = pd.concat([df_apid,df_huri])\n",
    "df_apid_huri_no_na = df_apid_huri.dropna()\n",
    "df_apid_huri_sorted = pd.DataFrame(df_apid_huri_no_na[[0, 1]].apply(lambda x: sorted(x), axis=1).to_list())\n",
    "df_apid_huri_unique = df_apid_huri_sorted.drop_duplicates()"
   ]
  },
  {
   "cell_type": "code",
   "execution_count": 22,
   "metadata": {},
   "outputs": [
    {
     "name": "stdout",
     "output_type": "stream",
     "text": [
      "Original number of unique PPIs HuRi 52569\n",
      "Original number of unique PPIs APID 66206\n",
      "\n",
      "Number of unique PPIs HuRi after mapping 51289\n",
      "Number of unique PPIs APID after mapping 66206\n",
      "Number of combined unique PPIs APID|HURI after mapping 111518\n",
      "\n",
      "Number of missing PPIS HuRi 1280\n",
      "Number of missing PPIS APID 0\n"
     ]
    }
   ],
   "source": [
    "#\n",
    "print('Original number of unique PPIs HuRi 52569')\n",
    "print('Original number of unique PPIs APID', len(df_apid))\n",
    "print()\n",
    "print('Number of unique PPIs HuRi after mapping', len(df_huri.dropna()))\n",
    "print('Number of unique PPIs APID after mapping', len(df_apid.dropna()))\n",
    "print('Number of combined unique PPIs APID|HURI after mapping', len(df_apid_huri_unique))\n",
    "print()\n",
    "print('Number of missing PPIS HuRi', 52569-len(df_huri.dropna()))\n",
    "print('Number of missing PPIS APID', len(df_apid)-len(df_apid.dropna()))"
   ]
  },
  {
   "cell_type": "code",
   "execution_count": 24,
   "metadata": {},
   "outputs": [
    {
     "name": "stdout",
     "output_type": "stream",
     "text": [
      "Original number of unique proteins HuRi 8275\n",
      "Original number of unique proteins APID 13317\n",
      "\n",
      "Number of unique proteins HuRi after mapping 8131\n",
      "Number of unique proteins APID after mapping 13317\n",
      "Number of combined unique proteins APID|HURI after mapping 15340\n"
     ]
    }
   ],
   "source": [
    "unique_proteins_apid = df_apid[0].dropna().to_list() + df_apid[1].dropna().to_list()\n",
    "unique_proteins_huri = df_huri[0].dropna().to_list() + df_huri[1].dropna().to_list()\n",
    "unique_proteins_huri_apid = unique_proteins_apid + unique_proteins_huri\n",
    "\n",
    "print('Original number of unique proteins HuRi 8275')\n",
    "print('Original number of unique proteins APID 13317')\n",
    "print()\n",
    "print('Number of unique proteins HuRi after mapping', len(set(unique_proteins_huri)))\n",
    "print('Number of unique proteins APID after mapping', len(set(unique_proteins_apid)))\n",
    "print('Number of combined unique proteins APID|HURI after mapping', len(set(unique_proteins_huri_apid)))"
   ]
  }
 ],
 "metadata": {
  "kernelspec": {
   "display_name": "Python 3",
   "language": "python",
   "name": "python3"
  },
  "language_info": {
   "codemirror_mode": {
    "name": "ipython",
    "version": 3
   },
   "file_extension": ".py",
   "mimetype": "text/x-python",
   "name": "python",
   "nbconvert_exporter": "python",
   "pygments_lexer": "ipython3",
   "version": "3.7.4"
  }
 },
 "nbformat": 4,
 "nbformat_minor": 2
}
