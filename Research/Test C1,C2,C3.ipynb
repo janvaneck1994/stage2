{
 "cells": [
  {
   "cell_type": "code",
   "execution_count": 8,
   "metadata": {},
   "outputs": [],
   "source": [
    "import networkx as nx\n",
    "import numpy as np"
   ]
  },
  {
   "cell_type": "code",
   "execution_count": 7,
   "metadata": {},
   "outputs": [],
   "source": [
    "g = nx.read_edgelist('../Data/Interactome/uniprot_ids_unique_combinations_huri.csv', delimiter=',')\n",
    "adj = nx.adjacency_matrix(g)\n",
    "\n",
    "num_nodes = adj.shape[0]\n",
    "num_edges = adj.sum()"
   ]
  },
  {
   "cell_type": "code",
   "execution_count": 23,
   "metadata": {},
   "outputs": [],
   "source": [
    "dummy_features = np.random.random((num_nodes, 10))"
   ]
  },
  {
   "cell_type": "code",
   "execution_count": 24,
   "metadata": {},
   "outputs": [
    {
     "data": {
      "text/plain": [
       "array([[0.84823677, 0.71919303, 0.94109856, ..., 0.83713151, 0.22254312,\n",
       "        0.51891981],\n",
       "       [0.25741543, 0.72271224, 0.34664497, ..., 0.56989615, 0.21879341,\n",
       "        0.79027971],\n",
       "       [0.99749573, 0.23734495, 0.82360839, ..., 0.08726262, 0.26524868,\n",
       "        0.62096624],\n",
       "       ...,\n",
       "       [0.3746557 , 0.15992541, 0.32219682, ..., 0.20244652, 0.71719272,\n",
       "        0.58827202],\n",
       "       [0.02021423, 0.53150944, 0.82770852, ..., 0.15530515, 0.2595902 ,\n",
       "        0.1399231 ],\n",
       "       [0.69456358, 0.65789422, 0.45261902, ..., 0.1096321 , 0.23033857,\n",
       "        0.72829488]])"
      ]
     },
     "execution_count": 24,
     "metadata": {},
     "output_type": "execute_result"
    }
   ],
   "source": [
    "dummy_features"
   ]
  },
  {
   "cell_type": "code",
   "execution_count": null,
   "metadata": {},
   "outputs": [],
   "source": []
  }
 ],
 "metadata": {
  "kernelspec": {
   "display_name": "Python 3",
   "language": "python",
   "name": "python3"
  },
  "language_info": {
   "codemirror_mode": {
    "name": "ipython",
    "version": 3
   },
   "file_extension": ".py",
   "mimetype": "text/x-python",
   "name": "python",
   "nbconvert_exporter": "python",
   "pygments_lexer": "ipython3",
   "version": "3.8.2"
  }
 },
 "nbformat": 4,
 "nbformat_minor": 4
}
