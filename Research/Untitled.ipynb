{
 "cells": [
  {
   "cell_type": "code",
   "execution_count": 1,
   "metadata": {},
   "outputs": [],
   "source": [
    "import pandas as pd\n",
    "import itertools"
   ]
  },
  {
   "cell_type": "code",
   "execution_count": 40,
   "metadata": {},
   "outputs": [],
   "source": [
    "df = pd.read_csv('/home/jan/Downloads/HuRI.psi', sep='\\t', header=None)\n",
    "df_apid = pd.read_csv('../Data/APID/HUMAN_INTACT_LVL2_FILTER_INT-SCECIES_04_05_2020.txt', sep='\\t')"
   ]
  },
  {
   "cell_type": "code",
   "execution_count": 41,
   "metadata": {},
   "outputs": [],
   "source": [
    "df_no_test = df[~df[27].str.contains('test')]"
   ]
  },
  {
   "cell_type": "code",
   "execution_count": 42,
   "metadata": {},
   "outputs": [],
   "source": [
    "new_df = pd.DataFrame(df_no_test.apply(\n",
    "        lambda x: sorted([x[0].split(':')[-1],x[1].split(':')[-1]]), axis=1\n",
    "    ).to_list()).drop_duplicates()"
   ]
  },
  {
   "cell_type": "code",
   "execution_count": 32,
   "metadata": {},
   "outputs": [],
   "source": [
    "apid_set_protein = set(df_apid[['UniprotID_A', 'UniprotID_B']].apply(lambda x: ''.join(sorted(x)), axis=1))\n",
    "huri_set_protein = set(new_df[[0, 1]].apply(lambda x: ''.join(sorted(x)), axis=1))"
   ]
  },
  {
   "cell_type": "code",
   "execution_count": 34,
   "metadata": {},
   "outputs": [
    {
     "data": {
      "text/plain": [
       "65159"
      ]
     },
     "execution_count": 34,
     "metadata": {},
     "output_type": "execute_result"
    }
   ],
   "source": [
    "len(apid_set_protein - huri_set_protein)"
   ]
  },
  {
   "cell_type": "code",
   "execution_count": 56,
   "metadata": {},
   "outputs": [],
   "source": [
    "df_convert_huri = pd.read_csv('/home/jan/Downloads/uniprot-yourlist_M20200506A94466D2655679D1FD8953E075198DA8A3DE48A.tab', sep='\\t')\n",
    "df_convert_apid = pd.read_csv('/home/jan/Downloads/uniprot-yourlist_M20200506A94466D2655679D1FD8953E075198DA8A3DF43Z.tab', sep='\\t')"
   ]
  },
  {
   "cell_type": "code",
   "execution_count": 62,
   "metadata": {},
   "outputs": [],
   "source": [
    "df_convert_huri_dict = dict(zip(df_convert_huri.iloc[:,0], df_convert_huri.iloc[:,1]))\n",
    "df_convert_apid_dict = dict(zip(df_convert_apid.iloc[:,0], df_convert_apid.iloc[:,1]))"
   ]
  },
  {
   "cell_type": "code",
   "execution_count": 71,
   "metadata": {},
   "outputs": [],
   "source": [
    "df_huri = pd.read_csv('/home/jan/Downloads/HuRI.psi', sep='\\t', header=None)\n",
    "df_huri = df[~df[27].str.contains('test')]\n",
    "df_huri = pd.DataFrame(df_no_test.apply(\n",
    "        lambda x: sorted([x[0].split(':')[-1],x[1].split(':')[-1]]), axis=1\n",
    "    ).to_list()).drop_duplicates()\n",
    "\n",
    "df_apid = pd.read_csv('../Data/APID/HUMAN_INTACT_LVL2_FILTER_INT-SCECIES_04_05_2020.txt', sep='\\t')\n",
    "df_apid = df_apid[['UniprotID_A', 'UniprotID_B']]"
   ]
  },
  {
   "cell_type": "code",
   "execution_count": 73,
   "metadata": {},
   "outputs": [],
   "source": [
    "def convert(x, convert_dict):\n",
    "    if x in convert_dict.keys():\n",
    "        return convert_dict[x]\n",
    "    else:\n",
    "        return x"
   ]
  },
  {
   "cell_type": "code",
   "execution_count": 80,
   "metadata": {},
   "outputs": [],
   "source": [
    "df_apid['UniprotID_A'] = df_apid['UniprotID_A'].apply(convert, args=(df_convert_apid_dict,))\n",
    "df_apid['UniprotID_B'] = df_apid['UniprotID_B'].apply(convert, args=(df_convert_apid_dict,))\n",
    "\n",
    "df_huri[0] = df_huri[0].apply(convert, args=(df_convert_huri_dict,))\n",
    "df_huri[1] = df_huri[1].apply(convert, args=(df_convert_huri_dict,))"
   ]
  },
  {
   "cell_type": "code",
   "execution_count": 83,
   "metadata": {},
   "outputs": [],
   "source": [
    "apid_set_protein = set(df_apid[['UniprotID_A', 'UniprotID_B']].apply(lambda x: ''.join(sorted(x)), axis=1))\n",
    "huri_set_protein = set(df_huri[[0, 1]].apply(lambda x: ''.join(sorted(x)), axis=1))"
   ]
  },
  {
   "cell_type": "code",
   "execution_count": 87,
   "metadata": {},
   "outputs": [
    {
     "data": {
      "text/plain": [
       "0.11294676187376763"
      ]
     },
     "execution_count": 87,
     "metadata": {},
     "output_type": "execute_result"
    }
   ],
   "source": [
    "(len(apid_set_protein) - len(apid_set_protein - huri_set_protein))/len(apid_set_protein)"
   ]
  },
  {
   "cell_type": "code",
   "execution_count": null,
   "metadata": {},
   "outputs": [],
   "source": []
  }
 ],
 "metadata": {
  "kernelspec": {
   "display_name": "Python 3",
   "language": "python",
   "name": "python3"
  },
  "language_info": {
   "codemirror_mode": {
    "name": "ipython",
    "version": 3
   },
   "file_extension": ".py",
   "mimetype": "text/x-python",
   "name": "python",
   "nbconvert_exporter": "python",
   "pygments_lexer": "ipython3",
   "version": "3.7.4"
  }
 },
 "nbformat": 4,
 "nbformat_minor": 2
}
