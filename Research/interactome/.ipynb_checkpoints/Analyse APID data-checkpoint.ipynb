{
 "cells": [
  {
   "cell_type": "markdown",
   "metadata": {},
   "source": [
    "# An overview of the APID interactome"
   ]
  },
  {
   "cell_type": "code",
   "execution_count": 1,
   "metadata": {},
   "outputs": [],
   "source": [
    "import pandas as pd\n",
    "import numpy as np"
   ]
  },
  {
   "cell_type": "code",
   "execution_count": 2,
   "metadata": {},
   "outputs": [],
   "source": [
    "df = pd.read_csv('../../Data/APID/HUMAN_INTACT_LVL2_FILTER_INT-SCECIES_04_05_2020.txt', sep='\\t')"
   ]
  },
  {
   "cell_type": "code",
   "execution_count": 3,
   "metadata": {},
   "outputs": [
    {
     "name": "stdout",
     "output_type": "stream",
     "text": [
      "<class 'pandas.core.frame.DataFrame'>\n",
      "RangeIndex: 66206 entries, 0 to 66205\n",
      "Data columns (total 12 columns):\n",
      "InteractionID     66206 non-null int64\n",
      "UniprotID_A       66206 non-null object\n",
      "UniprotName_A     66206 non-null object\n",
      "GeneName_A        65800 non-null object\n",
      "UniprotID_B       66206 non-null object\n",
      "UniprotName_B     66206 non-null object\n",
      "GeneName_B        65753 non-null object\n",
      "ExpEvidences      66206 non-null int64\n",
      "Methods           66206 non-null int64\n",
      "Publications      66206 non-null int64\n",
      "3DStructures      66206 non-null int64\n",
      "CurationEvents    66206 non-null int64\n",
      "dtypes: int64(6), object(6)\n",
      "memory usage: 6.1+ MB\n"
     ]
    }
   ],
   "source": [
    "df.info()"
   ]
  },
  {
   "cell_type": "code",
   "execution_count": 4,
   "metadata": {
    "scrolled": true
   },
   "outputs": [
    {
     "data": {
      "text/html": [
       "<div>\n",
       "<style scoped>\n",
       "    .dataframe tbody tr th:only-of-type {\n",
       "        vertical-align: middle;\n",
       "    }\n",
       "\n",
       "    .dataframe tbody tr th {\n",
       "        vertical-align: top;\n",
       "    }\n",
       "\n",
       "    .dataframe thead th {\n",
       "        text-align: right;\n",
       "    }\n",
       "</style>\n",
       "<table border=\"1\" class=\"dataframe\">\n",
       "  <thead>\n",
       "    <tr style=\"text-align: right;\">\n",
       "      <th></th>\n",
       "      <th>InteractionID</th>\n",
       "      <th>UniprotID_A</th>\n",
       "      <th>UniprotName_A</th>\n",
       "      <th>GeneName_A</th>\n",
       "      <th>UniprotID_B</th>\n",
       "      <th>UniprotName_B</th>\n",
       "      <th>GeneName_B</th>\n",
       "      <th>ExpEvidences</th>\n",
       "      <th>Methods</th>\n",
       "      <th>Publications</th>\n",
       "      <th>3DStructures</th>\n",
       "      <th>CurationEvents</th>\n",
       "    </tr>\n",
       "  </thead>\n",
       "  <tbody>\n",
       "    <tr>\n",
       "      <th>0</th>\n",
       "      <td>1818</td>\n",
       "      <td>P54727</td>\n",
       "      <td>RD23B_HUMAN</td>\n",
       "      <td>RAD23B</td>\n",
       "      <td>P55036</td>\n",
       "      <td>PSMD4_HUMAN</td>\n",
       "      <td>PSMD4</td>\n",
       "      <td>9</td>\n",
       "      <td>8</td>\n",
       "      <td>7</td>\n",
       "      <td>0</td>\n",
       "      <td>17</td>\n",
       "    </tr>\n",
       "    <tr>\n",
       "      <th>1</th>\n",
       "      <td>1819</td>\n",
       "      <td>P55036</td>\n",
       "      <td>PSMD4_HUMAN</td>\n",
       "      <td>PSMD4</td>\n",
       "      <td>Q9UMX0</td>\n",
       "      <td>UBQL1_HUMAN</td>\n",
       "      <td>UBQLN1</td>\n",
       "      <td>9</td>\n",
       "      <td>5</td>\n",
       "      <td>6</td>\n",
       "      <td>0</td>\n",
       "      <td>15</td>\n",
       "    </tr>\n",
       "    <tr>\n",
       "      <th>2</th>\n",
       "      <td>1826</td>\n",
       "      <td>Q9UMX0</td>\n",
       "      <td>UBQL1_HUMAN</td>\n",
       "      <td>UBQLN1</td>\n",
       "      <td>Q16186</td>\n",
       "      <td>ADRM1_HUMAN</td>\n",
       "      <td>ADRM1</td>\n",
       "      <td>3</td>\n",
       "      <td>4</td>\n",
       "      <td>2</td>\n",
       "      <td>0</td>\n",
       "      <td>8</td>\n",
       "    </tr>\n",
       "    <tr>\n",
       "      <th>3</th>\n",
       "      <td>1828</td>\n",
       "      <td>Q16186</td>\n",
       "      <td>ADRM1_HUMAN</td>\n",
       "      <td>ADRM1</td>\n",
       "      <td>Q9UHD9</td>\n",
       "      <td>UBQL2_HUMAN</td>\n",
       "      <td>UBQLN2</td>\n",
       "      <td>5</td>\n",
       "      <td>5</td>\n",
       "      <td>4</td>\n",
       "      <td>0</td>\n",
       "      <td>9</td>\n",
       "    </tr>\n",
       "    <tr>\n",
       "      <th>4</th>\n",
       "      <td>1837</td>\n",
       "      <td>P55036</td>\n",
       "      <td>PSMD4_HUMAN</td>\n",
       "      <td>PSMD4</td>\n",
       "      <td>P0CG48</td>\n",
       "      <td>UBC_HUMAN</td>\n",
       "      <td>UBC</td>\n",
       "      <td>26</td>\n",
       "      <td>5</td>\n",
       "      <td>22</td>\n",
       "      <td>0</td>\n",
       "      <td>30</td>\n",
       "    </tr>\n",
       "  </tbody>\n",
       "</table>\n",
       "</div>"
      ],
      "text/plain": [
       "   InteractionID UniprotID_A UniprotName_A GeneName_A UniprotID_B  \\\n",
       "0           1818      P54727   RD23B_HUMAN     RAD23B      P55036   \n",
       "1           1819      P55036   PSMD4_HUMAN      PSMD4      Q9UMX0   \n",
       "2           1826      Q9UMX0   UBQL1_HUMAN     UBQLN1      Q16186   \n",
       "3           1828      Q16186   ADRM1_HUMAN      ADRM1      Q9UHD9   \n",
       "4           1837      P55036   PSMD4_HUMAN      PSMD4      P0CG48   \n",
       "\n",
       "  UniprotName_B GeneName_B  ExpEvidences  Methods  Publications  3DStructures  \\\n",
       "0   PSMD4_HUMAN      PSMD4             9        8             7             0   \n",
       "1   UBQL1_HUMAN     UBQLN1             9        5             6             0   \n",
       "2   ADRM1_HUMAN      ADRM1             3        4             2             0   \n",
       "3   UBQL2_HUMAN     UBQLN2             5        5             4             0   \n",
       "4     UBC_HUMAN        UBC            26        5            22             0   \n",
       "\n",
       "   CurationEvents  \n",
       "0              17  \n",
       "1              15  \n",
       "2               8  \n",
       "3               9  \n",
       "4              30  "
      ]
     },
     "execution_count": 4,
     "metadata": {},
     "output_type": "execute_result"
    }
   ],
   "source": [
    "df.head()"
   ]
  },
  {
   "cell_type": "code",
   "execution_count": 5,
   "metadata": {},
   "outputs": [
    {
     "data": {
      "text/plain": [
       "ExpEvidences      1.936471\n",
       "Methods           2.410522\n",
       "Publications      1.559708\n",
       "3DStructures      0.041628\n",
       "CurationEvents    3.494442\n",
       "dtype: float64"
      ]
     },
     "execution_count": 5,
     "metadata": {},
     "output_type": "execute_result"
    }
   ],
   "source": [
    "#average value for the ExpEvidences, Methods, Publications, 3DStructures, and CurationEvents\n",
    "df.iloc[:,-5:].mean()"
   ]
  },
  {
   "cell_type": "code",
   "execution_count": 6,
   "metadata": {},
   "outputs": [
    {
     "data": {
      "text/plain": [
       "InteractionID       0\n",
       "UniprotID_A         0\n",
       "UniprotName_A       0\n",
       "GeneName_A        406\n",
       "UniprotID_B         0\n",
       "UniprotName_B       0\n",
       "GeneName_B        453\n",
       "ExpEvidences        0\n",
       "Methods             0\n",
       "Publications        0\n",
       "3DStructures        0\n",
       "CurationEvents      0\n",
       "dtype: int64"
      ]
     },
     "execution_count": 6,
     "metadata": {},
     "output_type": "execute_result"
    }
   ],
   "source": [
    "# Check if columns have NaN values\n",
    "df.isna().sum()"
   ]
  }
 ],
 "metadata": {
  "kernelspec": {
   "display_name": "Python 3",
   "language": "python",
   "name": "python3"
  },
  "language_info": {
   "codemirror_mode": {
    "name": "ipython",
    "version": 3
   },
   "file_extension": ".py",
   "mimetype": "text/x-python",
   "name": "python",
   "nbconvert_exporter": "python",
   "pygments_lexer": "ipython3",
   "version": "3.7.4"
  }
 },
 "nbformat": 4,
 "nbformat_minor": 2
}
