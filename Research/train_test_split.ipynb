{
 "cells": [
  {
   "cell_type": "code",
   "execution_count": 2,
   "metadata": {},
   "outputs": [],
   "source": [
    "import pandas as pd\n",
    "from Bio import SeqIO\n",
    "import numpy as np\n",
    "import networkx as nx\n",
    "import scipy.sparse as sp\n",
    "from Bio import SeqIO\n",
    "import matplotlib.pyplot as plt\n",
    "\n",
    "np.random.seed(seed=2)"
   ]
  },
  {
   "cell_type": "code",
   "execution_count": 3,
   "metadata": {},
   "outputs": [],
   "source": [
    "def split_train_test(edges, fasta, df_mmseq, train_frac=1, test_frac=0.1, out=False):\n",
    "    \n",
    "    np.random.shuffle(edges)\n",
    "    \n",
    "    num_test = int(len(edges) * test_frac)\n",
    "    train_edges = edges[num_test:]\n",
    "    np.random.shuffle(train_edges)\n",
    "    train_edges = train_edges[:int(len(train_edges)*train_frac)]\n",
    "    test_edges = edges[:num_test]\n",
    "    \n",
    "    train_nodes = set(train_edges.flatten())\n",
    "    test_nodes = set(test_edges.flatten())\n",
    "    \n",
    "    more_40_seq_id = df_mmseq[df_mmseq[2] > 0.4]\n",
    "    node_sim_dict = {}\n",
    "    for x in more_40_seq_id[[0,1]].values:\n",
    "        if x[0] not in node_sim_dict.keys():\n",
    "            node_sim_dict[x[0]] = [x[0]]\n",
    "        if x[1] not in node_sim_dict.keys():\n",
    "            node_sim_dict[x[1]] = [x[1]]\n",
    "\n",
    "        node_sim_dict[x[0]].append(x[1])\n",
    "        node_sim_dict[x[1]].append(x[0])\n",
    "\n",
    "    node_sim_dict = {x:list(set(y)) for x,y in node_sim_dict.items()}\n",
    "    \n",
    "    sim_train_nodes = []\n",
    "    for x in train_nodes:\n",
    "        if x in node_sim_dict.keys():\n",
    "            sim_train_nodes = sim_train_nodes + node_sim_dict[x]\n",
    "        else:\n",
    "            sim_train_nodes = sim_train_nodes + [x]\n",
    "    \n",
    "    sim_train_nodes = list(set(sim_train_nodes))\n",
    "    c1 = []\n",
    "    c2 = []\n",
    "    c3 = []\n",
    "    \n",
    "    for x in test_edges:\n",
    "        if x[0] not in sim_train_nodes and x[1] not in sim_train_nodes:\n",
    "            c3.append(x)\n",
    "        elif x[0] in sim_train_nodes and x[1] in sim_train_nodes:\n",
    "            c1.append(x)  \n",
    "        else:\n",
    "            c2.append(x)\n",
    "    \n",
    "    if out:\n",
    "        np.savez('../Data/train_test_data/train_edges.npz', train_edges)\n",
    "        np.savez('../Data/train_test_data/test_edges.npz', test_edges)\n",
    "    \n",
    "    print('Train:',len(train_edges),'C1:',len(c1),'C2:', len(c2),'C3:', len(c3))\n",
    "    print(sum([len(train_edges), len(c1), len(c2), len(c3)]))\n",
    "    return [len(train_edges), len(c1), len(c2), len(c3)]"
   ]
  },
  {
   "cell_type": "code",
   "execution_count": 4,
   "metadata": {},
   "outputs": [
    {
     "name": "stdout",
     "output_type": "stream",
     "text": [
      "edges 109905\n",
      "0.9\n"
     ]
    },
    {
     "ename": "KeyboardInterrupt",
     "evalue": "",
     "output_type": "error",
     "traceback": [
      "\u001b[0;31m---------------------------------------------------------------------------\u001b[0m",
      "\u001b[0;31mKeyboardInterrupt\u001b[0m                         Traceback (most recent call last)",
      "\u001b[0;32m<ipython-input-4-44a0883423d0>\u001b[0m in \u001b[0;36m<module>\u001b[0;34m\u001b[0m\n\u001b[1;32m     16\u001b[0m     \u001b[0;32mfor\u001b[0m \u001b[0my\u001b[0m \u001b[0;32min\u001b[0m \u001b[0mrange\u001b[0m\u001b[0;34m(\u001b[0m\u001b[0;36m5\u001b[0m\u001b[0;34m)\u001b[0m\u001b[0;34m:\u001b[0m\u001b[0;34m\u001b[0m\u001b[0;34m\u001b[0m\u001b[0m\n\u001b[1;32m     17\u001b[0m         \u001b[0mprint\u001b[0m\u001b[0;34m(\u001b[0m\u001b[0mx\u001b[0m\u001b[0;34m/\u001b[0m\u001b[0;36m10\u001b[0m\u001b[0;34m)\u001b[0m\u001b[0;34m\u001b[0m\u001b[0;34m\u001b[0m\u001b[0m\n\u001b[0;32m---> 18\u001b[0;31m         \u001b[0ml\u001b[0m\u001b[0;34m.\u001b[0m\u001b[0mappend\u001b[0m\u001b[0;34m(\u001b[0m\u001b[0msplit_train_test\u001b[0m\u001b[0;34m(\u001b[0m\u001b[0medges\u001b[0m\u001b[0;34m,\u001b[0m \u001b[0mfasta\u001b[0m\u001b[0;34m,\u001b[0m \u001b[0mdf_mmseq\u001b[0m\u001b[0;34m,\u001b[0m \u001b[0;36m1\u001b[0m\u001b[0;34m,\u001b[0m \u001b[0mx\u001b[0m\u001b[0;34m/\u001b[0m\u001b[0;36m10\u001b[0m\u001b[0;34m)\u001b[0m\u001b[0;34m)\u001b[0m\u001b[0;34m\u001b[0m\u001b[0;34m\u001b[0m\u001b[0m\n\u001b[0m\u001b[1;32m     19\u001b[0m     \u001b[0mk\u001b[0m\u001b[0;34m[\u001b[0m\u001b[0mx\u001b[0m\u001b[0;34m/\u001b[0m\u001b[0;36m10\u001b[0m\u001b[0;34m]\u001b[0m \u001b[0;34m=\u001b[0m \u001b[0ml\u001b[0m\u001b[0;34m\u001b[0m\u001b[0;34m\u001b[0m\u001b[0m\n",
      "\u001b[0;32m<ipython-input-3-01f83df8c998>\u001b[0m in \u001b[0;36msplit_train_test\u001b[0;34m(edges, fasta, df_mmseq, train_frac, test_frac, out)\u001b[0m\n\u001b[1;32m     40\u001b[0m         \u001b[0;32mif\u001b[0m \u001b[0mx\u001b[0m\u001b[0;34m[\u001b[0m\u001b[0;36m0\u001b[0m\u001b[0;34m]\u001b[0m \u001b[0;32mnot\u001b[0m \u001b[0;32min\u001b[0m \u001b[0msim_train_nodes\u001b[0m \u001b[0;32mand\u001b[0m \u001b[0mx\u001b[0m\u001b[0;34m[\u001b[0m\u001b[0;36m1\u001b[0m\u001b[0;34m]\u001b[0m \u001b[0;32mnot\u001b[0m \u001b[0;32min\u001b[0m \u001b[0msim_train_nodes\u001b[0m\u001b[0;34m:\u001b[0m\u001b[0;34m\u001b[0m\u001b[0;34m\u001b[0m\u001b[0m\n\u001b[1;32m     41\u001b[0m             \u001b[0mc3\u001b[0m\u001b[0;34m.\u001b[0m\u001b[0mappend\u001b[0m\u001b[0;34m(\u001b[0m\u001b[0mx\u001b[0m\u001b[0;34m)\u001b[0m\u001b[0;34m\u001b[0m\u001b[0;34m\u001b[0m\u001b[0m\n\u001b[0;32m---> 42\u001b[0;31m         \u001b[0;32melif\u001b[0m \u001b[0mx\u001b[0m\u001b[0;34m[\u001b[0m\u001b[0;36m0\u001b[0m\u001b[0;34m]\u001b[0m \u001b[0;32min\u001b[0m \u001b[0msim_train_nodes\u001b[0m \u001b[0;32mand\u001b[0m \u001b[0mx\u001b[0m\u001b[0;34m[\u001b[0m\u001b[0;36m1\u001b[0m\u001b[0;34m]\u001b[0m \u001b[0;32min\u001b[0m \u001b[0msim_train_nodes\u001b[0m\u001b[0;34m:\u001b[0m\u001b[0;34m\u001b[0m\u001b[0;34m\u001b[0m\u001b[0m\n\u001b[0m\u001b[1;32m     43\u001b[0m             \u001b[0mc1\u001b[0m\u001b[0;34m.\u001b[0m\u001b[0mappend\u001b[0m\u001b[0;34m(\u001b[0m\u001b[0mx\u001b[0m\u001b[0;34m)\u001b[0m\u001b[0;34m\u001b[0m\u001b[0;34m\u001b[0m\u001b[0m\n\u001b[1;32m     44\u001b[0m         \u001b[0;32melse\u001b[0m\u001b[0;34m:\u001b[0m\u001b[0;34m\u001b[0m\u001b[0;34m\u001b[0m\u001b[0m\n",
      "\u001b[0;31mKeyboardInterrupt\u001b[0m: "
     ]
    }
   ],
   "source": [
    "fasta = list(SeqIO.parse(\"../Data/Fasta/huri_apid_proteins.fasta\", \"fasta\"))\n",
    "# fasta = list(SeqIO.parse(\"../Data/test/huri_apid40.fasta\", \"fasta\"))\n",
    "\n",
    "df_edges = pd.read_csv('../Data/Interactome/huri_apid_merge_ppis_edgelist.csv', sep='\\t', header=None)\n",
    "df_nodes = pd.read_csv('../Data/Interactome/huri_apid_merge_ppis_nodelist.csv', sep='\\t', header=None)\n",
    "df_mmseq = pd.read_csv('../Data/mmseqs/align.m8', sep='\\t', header=None)\n",
    "red_prot = [x.id.split('|')[1] for x in fasta]\n",
    "\n",
    "edges = np.array([x for x in df_edges.values if x[0] in red_prot and x[1] in red_prot])\n",
    "edges = np.array([x for x in edges if x[0] != x[1]])\n",
    "print('edges',len(edges))\n",
    "\n",
    "k = {}\n",
    "for x in range(9,0,-1):\n",
    "    l = []\n",
    "    for y in range(5):\n",
    "        print(x/10)\n",
    "        l.append(split_train_test(edges, fasta, df_mmseq, 1, x/10))\n",
    "    k[x/10] = l"
   ]
  },
  {
   "cell_type": "code",
   "execution_count": null,
   "metadata": {},
   "outputs": [],
   "source": [
    "cs = [4,3,2,1]\n",
    "x = list(k.keys())[-9:]\n",
    "\n",
    "for c in cs: \n",
    "    dy = [np.std(np.array(k[i])[:,-c]) for i in x]\n",
    "    y = [np.mean(np.array(k[i])[:,-c]) for i in x]\n",
    "    print(y[0])\n",
    "    plt.title('Number of PPIs in test set')\n",
    "    if c == 4:\n",
    "        plt.errorbar(x, y, fmt='-o').set_label('Train')\n",
    "    else:\n",
    "        plt.errorbar(x, y, fmt='-o').set_label('C'+str(4+-c))\n",
    "    plt.xlabel('Test set (fraction)')\n",
    "    plt.ylabel('Frequency')\n",
    "plt.legend()"
   ]
  },
  {
   "cell_type": "code",
   "execution_count": null,
   "metadata": {},
   "outputs": [],
   "source": [
    "for c in [2]: \n",
    "    dy = [np.std(np.array(k[i])[:,-c]) for i in x]\n",
    "    y = [np.mean(np.array(k[i])[:,-c]) for i in x]\n",
    "    print(y[0])\n",
    "    plt.title('Number of PPIs in C3')\n",
    "    plt.errorbar(x, y, yerr=0, fmt='-o', color='#d62728').set_label('C'+str(4+-c))\n",
    "    plt.xlabel('Test set (fraction)')\n",
    "    plt.ylabel('Frequency')\n",
    "plt.legend()"
   ]
  },
  {
   "cell_type": "code",
   "execution_count": null,
   "metadata": {},
   "outputs": [],
   "source": []
  },
  {
   "cell_type": "code",
   "execution_count": 32,
   "metadata": {},
   "outputs": [],
   "source": [
    "fasta = list(SeqIO.parse(\"../Data/test/huri_apid100.fasta\", \"fasta\"))\n",
    "df_edges = pd.read_csv('../Data/Interactome/huri_apid_merge_ppis_edgelist.csv', sep='\\t', header=None)\n",
    "df_nodes = pd.read_csv('../Data/Interactome/huri_apid_merge_ppis_nodelist.csv', sep='\\t', header=None)\n",
    "df_mmseq = pd.read_csv('../Data/mmseqs/align.m8', sep='\\t', header=None)\n",
    "\n",
    "red_prot = [x.id.split('|')[1] for x in fasta]\n",
    "edges = np.array([x for x in df_edges.values if x[0] in red_prot and x[1] in red_prot])"
   ]
  },
  {
   "cell_type": "code",
   "execution_count": 38,
   "metadata": {},
   "outputs": [],
   "source": [
    "np.random.shuffle(edges)\n",
    "\n",
    "num_test = int(len(edges) * 0.25)\n",
    "train_edges = edges[num_test:]\n",
    "np.random.shuffle(train_edges)\n",
    "train_edges = train_edges[:int(len(train_edges)*1)]\n",
    "test_edges = edges[:num_test]\n",
    "    \n",
    "G = nx.read_edgelist('../Data/Interactome/huri_apid_merge_ppis_edgelist.csv')\n",
    "\n",
    "nr_train_edges = []\n",
    "for edge in train_edges:\n",
    "    if not G.has_edge(edge[0], edge[1]):\n",
    "        continue\n",
    "    nr_train_edges.append(edge)   \n",
    "    G.remove_nodes_from(edge)\n",
    "\n",
    "train_nodes = set(np.array(nr_train_edges).flatten())\n",
    "test_nodes = set(test_edges.flatten())"
   ]
  },
  {
   "cell_type": "code",
   "execution_count": 39,
   "metadata": {},
   "outputs": [],
   "source": [
    "more_40_seq_id = df_mmseq[df_mmseq[2] > 0.4]\n",
    "node_sim_dict = {}\n",
    "for x in more_40_seq_id[[0,1]].values:\n",
    "    if x[0] not in node_sim_dict.keys():\n",
    "        node_sim_dict[x[0]] = [x[0]]\n",
    "    if x[1] not in node_sim_dict.keys():\n",
    "        node_sim_dict[x[1]] = [x[1]]\n",
    "    \n",
    "    node_sim_dict[x[0]].append(x[1])\n",
    "    node_sim_dict[x[1]].append(x[0])\n",
    "\n",
    "node_sim_dict = {x:list(set(y)) for x,y in node_sim_dict.items()}"
   ]
  },
  {
   "cell_type": "code",
   "execution_count": 40,
   "metadata": {},
   "outputs": [],
   "source": [
    "sim_train_nodes = []\n",
    "for x in train_nodes:\n",
    "    if x in node_sim_dict.keys():\n",
    "        sim_train_nodes = sim_train_nodes + node_sim_dict[x]\n",
    "    else:\n",
    "        sim_train_nodes = sim_train_nodes + [x]"
   ]
  },
  {
   "cell_type": "code",
   "execution_count": 41,
   "metadata": {},
   "outputs": [],
   "source": [
    "c1 = [x for x in test_edges if x[0] in sim_train_nodes and x[1] in sim_train_nodes]\n",
    "c2 = [x for x in test_edges if x[0] not in sim_train_nodes or x[1] not in sim_train_nodes]\n",
    "c3 = [x for x in test_edges if x[0] not in sim_train_nodes and x[1] not in sim_train_nodes]"
   ]
  },
  {
   "cell_type": "code",
   "execution_count": 42,
   "metadata": {},
   "outputs": [
    {
     "name": "stdout",
     "output_type": "stream",
     "text": [
      "Train: 4110 C1: 22942 C2: 3749 C3: 127\n"
     ]
    }
   ],
   "source": [
    "print('Train:',len(nr_train_edges),'C1:',len(c1),'C2:', len(c2),'C3:', len(c3))"
   ]
  },
  {
   "cell_type": "code",
   "execution_count": null,
   "metadata": {},
   "outputs": [],
   "source": []
  }
 ],
 "metadata": {
  "kernelspec": {
   "display_name": "Python 3",
   "language": "python",
   "name": "python3"
  },
  "language_info": {
   "codemirror_mode": {
    "name": "ipython",
    "version": 3
   },
   "file_extension": ".py",
   "mimetype": "text/x-python",
   "name": "python",
   "nbconvert_exporter": "python",
   "pygments_lexer": "ipython3",
   "version": "3.8.2"
  }
 },
 "nbformat": 4,
 "nbformat_minor": 4
}
