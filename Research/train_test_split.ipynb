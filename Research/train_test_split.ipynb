{
 "cells": [
  {
   "cell_type": "code",
   "execution_count": 236,
   "metadata": {},
   "outputs": [],
   "source": [
    "import pandas as pd\n",
    "from Bio import SeqIO\n",
    "import numpy as np\n",
    "import networkx as nx\n",
    "import scipy.sparse as sp\n",
    "from Bio import SeqIO\n",
    "\n",
    "np.random.seed(seed=2)"
   ]
  },
  {
   "cell_type": "code",
   "execution_count": 257,
   "metadata": {},
   "outputs": [],
   "source": [
    "def split_train_test(fasta, train_frac=1, test_frac=0.1 out=False):\n",
    "    df_edges = pd.read_csv('../Data/Interactome/huri_apid_merge_ppis_edgelist.csv', sep='\\t', header=None)\n",
    "    df_nodes = pd.read_csv('../Data/Interactome/huri_apid_merge_ppis_nodelist.csv', sep='\\t', header=None)\n",
    "#     df_mmseq = pd.read_csv('../Data/mmseqs/align.m8', sep='\\t', header=None)\n",
    "#     df_clu = pd.read_csv('../Data/mmseqs/DB_clu.tsv', sep='\\t', header=None)\n",
    "    red_prot = [x.id.split('|')[1] for x in fasta]\n",
    "    \n",
    "    edges = np.array([x for x in df_edges.values if x[0] in red_prot and x[1] in red_prot])\n",
    "    np.random.shuffle(edges)\n",
    "    \n",
    "    num_test = int(len(edges) * test_frac)\n",
    "    train_edges = edges[num_test:]\n",
    "    np.random.shuffle(train_edges)\n",
    "    train_edges = train_edges[:int(len(train_edges)*train_frac)]\n",
    "    test_edges = edges[:num_test]\n",
    "    \n",
    "    train_nodes = set(train_edges.flatten())\n",
    "    test_nodes = set(test_edges.flatten())\n",
    "    \n",
    "    c1 = [x for x in test_edges if x[0] in train_nodes and x[1] in train_nodes]\n",
    "    c2 = [x for x in test_edges if x[0] not in train_nodes or x[1] not in train_nodes]\n",
    "    c3 = [x for x in test_edges if x[0] not in train_nodes and x[1] not in train_nodes]\n",
    "    \n",
    "    if out:\n",
    "        np.savez('../Data/train_test_data/train_edges.npz', train_edges)\n",
    "        np.savez('../Data/train_test_data/test_edges.npz', test_edges)\n",
    "    \n",
    "    print('Train:',len(train_edges),'C1:',len(c1),'C2:', len(c2),'C3:', len(c3))"
   ]
  },
  {
   "cell_type": "code",
   "execution_count": 258,
   "metadata": {},
   "outputs": [
    {
     "name": "stdout",
     "output_type": "stream",
     "text": [
      "Train: 9160 C1: 3814 C2: 1274 C3: 108\n"
     ]
    }
   ],
   "source": [
    "fasta = list(SeqIO.parse(\"../Data/Fasta/huri_apid_proteins.fasta\", \"fasta\"))\n",
    "fasta = list(SeqIO.parse(\"../Data/test/huri_apid40.fasta\", \"fasta\"))\n",
    "\n",
    "split_train_test(fasta, 0.2)"
   ]
  },
  {
   "cell_type": "code",
   "execution_count": 404,
   "metadata": {},
   "outputs": [],
   "source": [
    "fasta = list(SeqIO.parse(\"../Data/Fasta/huri_apid_proteins.fasta\", \"fasta\"))\n",
    "df_edges = pd.read_csv('../Data/Interactome/huri_apid_merge_ppis_edgelist.csv', sep='\\t', header=None)\n",
    "df_nodes = pd.read_csv('../Data/Interactome/huri_apid_merge_ppis_nodelist.csv', sep='\\t', header=None)\n",
    "df_mmseq = pd.read_csv('../Data/mmseqs/align.m8', sep='\\t', header=None)\n",
    "\n",
    "red_prot = [x.id.split('|')[1] for x in fasta]\n",
    "edges = np.array([x for x in df_edges.values if x[0] in red_prot and x[1] in red_prot])\n"
   ]
  },
  {
   "cell_type": "code",
   "execution_count": 405,
   "metadata": {},
   "outputs": [],
   "source": [
    "np.random.shuffle(edges)\n",
    "\n",
    "num_test = int(len(edges) * 0.25)\n",
    "train_edges = edges[num_test:]\n",
    "np.random.shuffle(train_edges)\n",
    "train_edges = train_edges[:int(len(train_edges)*1)]\n",
    "test_edges = edges[:num_test]\n",
    "    \n",
    "G = nx.read_edgelist('../Data/Interactome/huri_apid_merge_ppis_edgelist.csv')\n",
    "\n",
    "nr_train_edges = []\n",
    "for edge in train_edges:\n",
    "    if not G.has_edge(edge[0], edge[1]):\n",
    "        continue\n",
    "    nr_train_edges.append(edge)   \n",
    "    G.remove_nodes_from(edge)\n",
    "\n",
    "train_nodes = set(np.array(nr_train_edges).flatten())\n",
    "test_nodes = set(test_edges.flatten())"
   ]
  },
  {
   "cell_type": "code",
   "execution_count": 406,
   "metadata": {},
   "outputs": [],
   "source": [
    "more_40_seq_id = df_mmseq[df_mmseq[2] > 0.4]\n",
    "node_sim_dict = {}\n",
    "for x in more_40_seq_id[[0,1]].values:\n",
    "    if x[0] not in node_sim_dict.keys():\n",
    "        node_sim_dict[x[0]] = [x[0]]\n",
    "    if x[1] not in node_sim_dict.keys():\n",
    "        node_sim_dict[x[1]] = [x[1]]\n",
    "    \n",
    "    node_sim_dict[x[0]].append(x[1])\n",
    "    node_sim_dict[x[1]].append(x[0])\n",
    "\n",
    "node_sim_dict = {x:list(set(y)) for x,y in node_sim_dict.items()}"
   ]
  },
  {
   "cell_type": "code",
   "execution_count": 407,
   "metadata": {},
   "outputs": [],
   "source": [
    "sim_train_nodes = []\n",
    "for x in train_nodes:\n",
    "    if x in node_sim_dict.keys():\n",
    "        sim_train_nodes = sim_train_nodes + node_sim_dict[x]\n",
    "    else:\n",
    "        sim_train_nodes = sim_train_nodes + [x]"
   ]
  },
  {
   "cell_type": "code",
   "execution_count": 408,
   "metadata": {},
   "outputs": [],
   "source": [
    "c1 = [x for x in test_edges if x[0] in sim_train_nodes and x[1] in sim_train_nodes]\n",
    "c2 = [x for x in test_edges if x[0] not in sim_train_nodes or x[1] not in sim_train_nodes]\n",
    "c3 = [x for x in test_edges if x[0] not in sim_train_nodes and x[1] not in sim_train_nodes]"
   ]
  },
  {
   "cell_type": "code",
   "execution_count": 409,
   "metadata": {},
   "outputs": [
    {
     "data": {
      "text/plain": [
       "4408"
      ]
     },
     "execution_count": 409,
     "metadata": {},
     "output_type": "execute_result"
    }
   ],
   "source": [
    "len(keep_edges)"
   ]
  },
  {
   "cell_type": "code",
   "execution_count": 410,
   "metadata": {},
   "outputs": [
    {
     "data": {
      "text/plain": [
       "27934"
      ]
     },
     "execution_count": 410,
     "metadata": {},
     "output_type": "execute_result"
    }
   ],
   "source": [
    "len(test_edges)"
   ]
  },
  {
   "cell_type": "code",
   "execution_count": 411,
   "metadata": {},
   "outputs": [
    {
     "data": {
      "text/plain": [
       "24091"
      ]
     },
     "execution_count": 411,
     "metadata": {},
     "output_type": "execute_result"
    }
   ],
   "source": [
    "len(c1)"
   ]
  },
  {
   "cell_type": "code",
   "execution_count": 412,
   "metadata": {},
   "outputs": [
    {
     "data": {
      "text/plain": [
       "3843"
      ]
     },
     "execution_count": 412,
     "metadata": {},
     "output_type": "execute_result"
    }
   ],
   "source": [
    "len(c2)"
   ]
  },
  {
   "cell_type": "code",
   "execution_count": 413,
   "metadata": {},
   "outputs": [
    {
     "data": {
      "text/plain": [
       "126"
      ]
     },
     "execution_count": 413,
     "metadata": {},
     "output_type": "execute_result"
    }
   ],
   "source": [
    "len(c3)"
   ]
  },
  {
   "cell_type": "code",
   "execution_count": null,
   "metadata": {},
   "outputs": [],
   "source": []
  },
  {
   "cell_type": "code",
   "execution_count": null,
   "metadata": {},
   "outputs": [],
   "source": []
  }
 ],
 "metadata": {
  "kernelspec": {
   "display_name": "Python 3",
   "language": "python",
   "name": "python3"
  },
  "language_info": {
   "codemirror_mode": {
    "name": "ipython",
    "version": 3
   },
   "file_extension": ".py",
   "mimetype": "text/x-python",
   "name": "python",
   "nbconvert_exporter": "python",
   "pygments_lexer": "ipython3",
   "version": "3.8.2"
  }
 },
 "nbformat": 4,
 "nbformat_minor": 4
}
