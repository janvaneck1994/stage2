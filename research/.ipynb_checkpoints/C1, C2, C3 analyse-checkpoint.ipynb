{
 "cells": [
  {
   "cell_type": "code",
   "execution_count": 40,
   "metadata": {},
   "outputs": [],
   "source": [
    "import pandas as pd\n",
    "import numpy as np\n",
    "from utils import similar_proteins, c1_c2_c3"
   ]
  },
  {
   "cell_type": "code",
   "execution_count": 41,
   "metadata": {},
   "outputs": [],
   "source": [
    "df_prot_list = pd.read_csv('../data/processed/protein_list.csv')\n",
    "idx = df_prot_list['prot_idx'].tolist()\n",
    "idx_map = dict(zip(df_prot_list.prot_name, df_prot_list.prot_idx))\n",
    "prot_map = dict(zip(df_prot_list.prot_idx, df_prot_list.prot_name))\n",
    "mmseqs_file = '../data/alnRes.m8'"
   ]
  },
  {
   "cell_type": "code",
   "execution_count": 57,
   "metadata": {},
   "outputs": [],
   "source": [
    "train = pd.read_csv('../data/processed/cv/1/100/train.csv', header=None, sep='\\t')\n",
    "val = pd.read_csv('../data/processed/cv/1/100/val.csv', header=None, sep='\\t')\n",
    "test = pd.read_csv('../data/processed/cv/1/100/test.csv', header=None, sep='\\t')"
   ]
  },
  {
   "cell_type": "code",
   "execution_count": 58,
   "metadata": {},
   "outputs": [],
   "source": [
    "train_pos = train[train[2] == 1].iloc[:,:2].values\n",
    "val_pos = val[val[2] == 1].iloc[:,:2].values\n",
    "val_neg = val[val[2] == 0].iloc[:,:2].values\n",
    "test_pos = test[test[2] == 1].iloc[:,:2].values\n",
    "test_neg = test[test[2] == 0].iloc[:,:2].values"
   ]
  },
  {
   "cell_type": "code",
   "execution_count": 59,
   "metadata": {},
   "outputs": [],
   "source": [
    "train_prots = [prot_map[x] for x in train_pos.flatten()]\n",
    "all_prots = [prot_map[x] for x in idx]\n",
    "train_nodes_dissim, train_nodes_sim = dissim_train_nodes(train_prots, all_prots, mmseqs_file, seq_id = 0.4)\n",
    "train_nodes_sim = [idx_map[x] for x in train_nodes_sim]\n"
   ]
  },
  {
   "cell_type": "code",
   "execution_count": 60,
   "metadata": {},
   "outputs": [
    {
     "name": "stdout",
     "output_type": "stream",
     "text": [
      "2995 115 3\n"
     ]
    }
   ],
   "source": [
    "c1, c2, c3 = c1_c2_c3(train_nodes_sim, val_pos)\n",
    "print(len(c1), len(c2), len(c3))"
   ]
  },
  {
   "cell_type": "code",
   "execution_count": 61,
   "metadata": {},
   "outputs": [
    {
     "name": "stdout",
     "output_type": "stream",
     "text": [
      "299500 11500 300\n"
     ]
    }
   ],
   "source": [
    "c1, c2, c3 = c1_c2_c3(train_nodes_sim, val_neg)\n",
    "print(len(c1), len(c2), len(c3))"
   ]
  },
  {
   "cell_type": "code",
   "execution_count": null,
   "metadata": {},
   "outputs": [],
   "source": []
  }
 ],
 "metadata": {
  "kernelspec": {
   "display_name": "Python 3",
   "language": "python",
   "name": "python3"
  },
  "language_info": {
   "codemirror_mode": {
    "name": "ipython",
    "version": 3
   },
   "file_extension": ".py",
   "mimetype": "text/x-python",
   "name": "python",
   "nbconvert_exporter": "python",
   "pygments_lexer": "ipython3",
   "version": "3.8.3"
  }
 },
 "nbformat": 4,
 "nbformat_minor": 4
}
