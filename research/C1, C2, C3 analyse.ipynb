{
 "cells": [
  {
   "cell_type": "code",
   "execution_count": 14,
   "metadata": {},
   "outputs": [],
   "source": [
    "import pandas as pd\n",
    "import numpy as np\n",
    "from utils import similar_proteins, c1_c2_c3"
   ]
  },
  {
   "cell_type": "code",
   "execution_count": 15,
   "metadata": {},
   "outputs": [],
   "source": [
    "df_prot_list = pd.read_csv('../data/processed/protein_list.csv', header=None)\n",
    "idx = df_prot_list[1].tolist()\n",
    "idx_map = dict(zip(df_prot_list[0], df_prot_list[1]))\n",
    "prot_map = dict(zip(df_prot_list[1], df_prot_list[0]))\n",
    "mmseqs_file = '../data/alnRes.m8'"
   ]
  },
  {
   "cell_type": "code",
   "execution_count": 37,
   "metadata": {},
   "outputs": [],
   "source": [
    "len_c1 = []\n",
    "len_c2 = []\n",
    "len_c3 = []\n",
    "for i in range(10):\n",
    "    train = pd.read_csv('../data/processed/cv/'+str(i)+'/1/train.csv')\n",
    "    val = pd.read_csv('../data/processed/cv/'+str(i)+'/1/val.csv')\n",
    "    test = pd.read_csv('../data/processed/cv/'+str(i)+'/1/test.csv')\n",
    "\n",
    "    train_pos = train[train['label'] == 1].iloc[:,:2].values\n",
    "    val_pos = val[val['label'] == 1].iloc[:,:2].values\n",
    "    val_neg = val[val['label'] == 0].iloc[:,:2].values\n",
    "    test_pos = test[test['label'] == 1].iloc[:,:2].values\n",
    "    test_neg = test[test['label'] == 0].iloc[:,:2].values\n",
    "    \n",
    "    train_prots = [prot_map[x] for x in train_pos.flatten()]\n",
    "    all_prots = [prot_map[x] for x in idx]\n",
    "    train_nodes_sim = similar_proteins(train_prots, all_prots, mmseqs_file, seq_id = 0.4)\n",
    "    train_nodes_sim = [idx_map[x] for x in train_nodes_sim]\n",
    "    \n",
    "    c1, c2, c3 = c1_c2_c3(train_nodes_sim, test_pos)\n",
    "    len_c1.append(len(c1))\n",
    "    len_c2.append(len(c2))      \n",
    "    len_c3.append(len(c3))   "
   ]
  },
  {
   "cell_type": "code",
   "execution_count": 39,
   "metadata": {},
   "outputs": [
    {
     "data": {
      "text/plain": [
       "(26042.4, 1902.0, 52.6)"
      ]
     },
     "execution_count": 39,
     "metadata": {},
     "output_type": "execute_result"
    }
   ],
   "source": [
    "np.mean(len_c1), np.mean(len_c2), np.mean(len_c3)"
   ]
  },
  {
   "cell_type": "code",
   "execution_count": null,
   "metadata": {},
   "outputs": [],
   "source": []
  }
 ],
 "metadata": {
  "kernelspec": {
   "display_name": "Python 3",
   "language": "python",
   "name": "python3"
  },
  "language_info": {
   "codemirror_mode": {
    "name": "ipython",
    "version": 3
   },
   "file_extension": ".py",
   "mimetype": "text/x-python",
   "name": "python",
   "nbconvert_exporter": "python",
   "pygments_lexer": "ipython3",
   "version": "3.8.3"
  }
 },
 "nbformat": 4,
 "nbformat_minor": 4
}
