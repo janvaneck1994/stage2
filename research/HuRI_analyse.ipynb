{
 "cells": [
  {
   "cell_type": "code",
   "execution_count": 115,
   "metadata": {},
   "outputs": [],
   "source": [
    "import pandas as pd\n",
    "import numpy as np"
   ]
  },
  {
   "cell_type": "code",
   "execution_count": 116,
   "metadata": {},
   "outputs": [
    {
     "name": "stdout",
     "output_type": "stream",
     "text": [
      "Number of edges: 64006\n"
     ]
    }
   ],
   "source": [
    "original_HI = pd.read_csv('../data/HI-union.tsv', sep='\\t', header=None)\n",
    "print('Number of edges:', len(original_HI))"
   ]
  },
  {
   "cell_type": "code",
   "execution_count": 117,
   "metadata": {},
   "outputs": [
    {
     "name": "stdout",
     "output_type": "stream",
     "text": [
      "Number of nodes: 9094\n"
     ]
    }
   ],
   "source": [
    "original_HI_nodes = pd.read_csv('../data/HI-union_nodes.tsv', sep='\\t', header=None)\n",
    "print('Number of nodes:', len(original_HI_nodes))"
   ]
  },
  {
   "cell_type": "code",
   "execution_count": 118,
   "metadata": {
    "scrolled": true
   },
   "outputs": [
    {
     "name": "stdout",
     "output_type": "stream",
     "text": [
      "Number of edges: 63026\n"
     ]
    }
   ],
   "source": [
    "mapped_HI_edges = pd.read_csv('../data/processed/HI-union_edges.csv', header=None)\n",
    "print('Number of edges:', len(mapped_HI_edges))"
   ]
  },
  {
   "cell_type": "code",
   "execution_count": 119,
   "metadata": {},
   "outputs": [
    {
     "name": "stdout",
     "output_type": "stream",
     "text": [
      "Number of nodes: 8957\n"
     ]
    }
   ],
   "source": [
    "mapped_HI_nodes = pd.read_csv('../data/processed/HI-union_nodes.csv', header=None)\n",
    "print('Number of nodes:', len(mapped_HI_nodes))"
   ]
  },
  {
   "cell_type": "code",
   "execution_count": null,
   "metadata": {},
   "outputs": [],
   "source": []
  }
 ],
 "metadata": {
  "kernelspec": {
   "display_name": "Python 3",
   "language": "python",
   "name": "python3"
  },
  "language_info": {
   "codemirror_mode": {
    "name": "ipython",
    "version": 3
   },
   "file_extension": ".py",
   "mimetype": "text/x-python",
   "name": "python",
   "nbconvert_exporter": "python",
   "pygments_lexer": "ipython3",
   "version": "3.8.3"
  }
 },
 "nbformat": 4,
 "nbformat_minor": 4
}
