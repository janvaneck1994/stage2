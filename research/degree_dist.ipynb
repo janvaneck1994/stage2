{
 "cells": [
  {
   "cell_type": "code",
   "execution_count": 1,
   "metadata": {},
   "outputs": [],
   "source": [
    "import pandas as pd\n",
    "import networkx as nx\n",
    "import matplotlib.pyplot as plt\n",
    "import numpy as np\n",
    "import seaborn as sns"
   ]
  },
  {
   "cell_type": "code",
   "execution_count": 2,
   "metadata": {},
   "outputs": [],
   "source": [
    "df_train = pd.read_csv('../data/processed/cv/0/1/train.csv', header=None, sep='\\t')\n",
    "df_val = pd.read_csv('../data/processed/cv/0/1/val.csv', header=None, sep='\\t')\n",
    "df_test = pd.read_csv('../data/processed/cv/0/1/test.csv', header=None, sep='\\t')"
   ]
  },
  {
   "cell_type": "code",
   "execution_count": 3,
   "metadata": {},
   "outputs": [],
   "source": [
    "def total_neighbors(G, x, y):\n",
    "    return len(list(G.neighbors(x))) + len(list(G.neighbors(y)))"
   ]
  },
  {
   "cell_type": "code",
   "execution_count": 4,
   "metadata": {},
   "outputs": [
    {
     "name": "stdout",
     "output_type": "stream",
     "text": [
      "59.0\n",
      "7.0\n"
     ]
    },
    {
     "data": {
      "image/png": "[encoded data removed]",
      "text/plain": [
       "<Figure size 432x288 with 1 Axes>"
      ]
     },
     "metadata": {
      "needs_background": "light"
     },
     "output_type": "display_data"
    }
   ],
   "source": [
    "fig, ax = plt.subplots(1, 1)\n",
    "\n",
    "i=0\n",
    "\n",
    "train_pos = df_train.iloc[:,:2].values\n",
    "test_edges = df_test.iloc[:,:2].values\n",
    "test_link_labels = df_test.iloc[:,2].values\n",
    "\n",
    "pos_test, neg_test = test_edges[test_link_labels==1], test_edges[test_link_labels==0]\n",
    "nodes = set(np.concatenate((train_pos, test_edges)).flatten())\n",
    "\n",
    "G = nx.Graph()\n",
    "G.add_nodes_from(nodes)\n",
    "G.add_edges_from(train_pos)\n",
    "\n",
    "pos_neighbors = np.array([total_neighbors(G, x[0], x[1]) for x in pos_test])\n",
    "neg_neighbors = np.array([total_neighbors(G, x[0], x[1]) for x in neg_test])\n",
    "\n",
    "print(np.median(pos_neighbors))\n",
    "print(np.median(neg_neighbors))\n",
    "\n",
    "x, y = int(i/2), int(i%2)\n",
    "\n",
    "axis = ax\n",
    "\n",
    "axis.set_title('Total degree distributions')\n",
    "\n",
    "sns.distplot(pos_neighbors, hist = False, kde = True,\n",
    "             kde_kws = {'linewidth': 1, \"shade\":True},\n",
    "             label = 'Positives', ax = axis, color='green')\n",
    "\n",
    "sns.distplot(neg_neighbors, hist = False, kde = True,\n",
    "             kde_kws = {'linewidth': 1, \"shade\":True},\n",
    "             label = 'Negatives', ax = axis, color='red')\n",
    "\n",
    "# custom_xlim = (0, 300)\n",
    "# custom_ylim = (0, .103)\n",
    "# plt.setp(axis, ylim=custom_ylim, xlim=custom_xlim)\n",
    "\n",
    "legend_a = axis.legend(loc=\"center right\")\n",
    "axis.add_artist(legend_a)\n",
    "axis.set_xlabel('Combined degree of node A and B')\n",
    "axis.set_ylabel('Frequency')\n",
    "plt.savefig('degree_dist.png')\n",
    "plt.show()\n"
   ]
  },
  {
   "cell_type": "code",
   "execution_count": null,
   "metadata": {},
   "outputs": [],
   "source": []
  }
 ],
 "metadata": {
  "kernelspec": {
   "display_name": "Python 3",
   "language": "python",
   "name": "python3"
  },
  "language_info": {
   "codemirror_mode": {
    "name": "ipython",
    "version": 3
   },
   "file_extension": ".py",
   "mimetype": "text/x-python",
   "name": "python",
   "nbconvert_exporter": "python",
   "pygments_lexer": "ipython3",
   "version": "3.8.3"
  }
 },
 "nbformat": 4,
 "nbformat_minor": 4
}
